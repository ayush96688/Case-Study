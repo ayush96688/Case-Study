{
  "cells": [
    {
      "metadata": {
        "_uuid": "8f2839f25d086af736a60e9eeb907d3b93b6e0e5",
        "_cell_guid": "b1076dfc-b9ad-4769-8c92-a6c4dae69d19",
        "trusted": true
      },
      "cell_type": "code",
      "source": "import pandas as pd\nimport numpy as np\nimport seaborn as sns\nimport matplotlib.pyplot as plt\ndata=pd.read_table(r'../input/XYZCorp_LendingData.txt',parse_dates=['issue_d'],low_memory=False)",
      "execution_count": null,
      "outputs": []
    },
    {
      "metadata": {
        "_cell_guid": "79c7e3d0-c299-4dcb-8224-4455121ee9b0",
        "_uuid": "d629ff2d2480ee46fbb7e2d37f6b5fab8052498a",
        "trusted": true
      },
      "cell_type": "code",
      "source": "print(data.shape)",
      "execution_count": null,
      "outputs": []
    },
    {
      "metadata": {
        "trusted": true,
        "_uuid": "3b7a90b4add41c4399e35208e7f27990daa394e1"
      },
      "cell_type": "code",
      "source": "data.tail()",
      "execution_count": null,
      "outputs": []
    },
    {
      "metadata": {
        "trusted": true,
        "_uuid": "f633ded2ba0a00e37b95874b2bad551033354284"
      },
      "cell_type": "code",
      "source": "print(data.info())",
      "execution_count": null,
      "outputs": []
    },
    {
      "metadata": {
        "trusted": true,
        "_uuid": "96bb7da6bd38c7872980adf5f4575058e85fe5cf"
      },
      "cell_type": "code",
      "source": "\ntrain = data[data['issue_d'] < '2015-6-01']\ntest = data[data['issue_d'] >= '2015-6-01']",
      "execution_count": null,
      "outputs": []
    },
    {
      "metadata": {
        "trusted": true,
        "_uuid": "b4ae62c541c8d1a8707bce7df2fce8b86f1d61ae"
      },
      "cell_type": "code",
      "source": "print(train.shape)\nprint(test.shape)",
      "execution_count": null,
      "outputs": []
    },
    {
      "metadata": {
        "trusted": true,
        "_uuid": "c47a04957f01eb90f2dcfb395cf23614947bab9a"
      },
      "cell_type": "code",
      "source": "train['default_ind'].value_counts().plot.bar()",
      "execution_count": null,
      "outputs": []
    },
    {
      "metadata": {
        "trusted": true,
        "_uuid": "a66b30e00a2216c1239792c03bd0062bde73c2f2"
      },
      "cell_type": "code",
      "source": "fig, ax = plt.subplots(1, 3, figsize=(16,5))\n\nsns.distplot(train['loan_amnt'], ax=ax[0])\nsns.distplot(train['funded_amnt'], ax=ax[1])\nsns.distplot(train['funded_amnt_inv'], ax=ax[2])\n\nax[1].set_title(\"Amount Funded by the Lender\")\nax[0].set_title(\"Loan Applied by the Borrower\")\nax[2].set_title(\"Total committed by Investors\")",
      "execution_count": null,
      "outputs": []
    },
    {
      "metadata": {
        "trusted": true,
        "_uuid": "4dee84ecb7fd2f440ccef099a5f3c9f4bac38a11"
      },
      "cell_type": "code",
      "source": "train.purpose.value_counts(ascending=False).plot.bar(figsize=(10,5))\nplt.xlabel('purpose'); plt.ylabel('Density'); plt.title('Purpose of loan');",
      "execution_count": null,
      "outputs": []
    },
    {
      "metadata": {
        "trusted": true,
        "_uuid": "6adb2941a8846f343ad5b2ce12794863048e82db"
      },
      "cell_type": "code",
      "source": "\ntrain['issue_year'] = train['issue_d'].dt.year\nplt.figure(figsize=(10,5))\nsns.barplot(x='issue_year',y='loan_amnt',data=train)",
      "execution_count": null,
      "outputs": []
    },
    {
      "metadata": {
        "trusted": true,
        "_uuid": "4b1bd1ad75cddaa28c4598a8a982476840212f76"
      },
      "cell_type": "code",
      "source": "# Loan Status \nfig, ax = plt.subplots(1, 2, figsize=(16,5))\ntrain['default_ind'].value_counts().plot.pie(explode=[0,0.25],labels=['good loans','bad loans'],\n                                             autopct='%1.2f%%',startangle=70,ax=ax[0])\nsns.kdeplot(train.loc[train['default_ind']==0,'issue_year'],label='default_ind = 0')\nsns.kdeplot(train.loc[train['default_ind']==1,'issue_year'],label='default_ind = 1')\nplt.xlabel('Year'); plt.ylabel('Density'); plt.title('Yearwise Distribution of defaulter')",
      "execution_count": null,
      "outputs": []
    },
    {
      "metadata": {
        "trusted": true,
        "_uuid": "b46724738e6c7b56ab8a3a266632d7336c12f7fe"
      },
      "cell_type": "code",
      "source": "train.grade.value_counts().plot.bar()",
      "execution_count": null,
      "outputs": []
    },
    {
      "metadata": {
        "trusted": true,
        "_uuid": "6d20176bcb114d9294f60b151ee97fe89e606df7"
      },
      "cell_type": "code",
      "source": "fig,array=plt.subplots(1,2,figsize=(12,5))\ntrain.loc[train['default_ind']==0,'grade'].value_counts().plot.bar(ax=array[0])\ntrain.loc[train['default_ind']==1,'grade'].value_counts().plot.bar(ax=array[1])\narray[0].set_title('default_ind=0 vs grade'),array[1].set_title('default_ind=1 vs grade')",
      "execution_count": null,
      "outputs": []
    },
    {
      "metadata": {
        "trusted": true,
        "_uuid": "06c169eb5a718b6192f7ca02ca5dc4b3c9150ce5"
      },
      "cell_type": "code",
      "source": "print(data.isnull().sum())",
      "execution_count": null,
      "outputs": []
    },
    {
      "metadata": {
        "trusted": true,
        "_uuid": "6f5af9c46fc24cecdb693444ba1fc3bbb900718c"
      },
      "cell_type": "code",
      "source": "data.select_dtypes('object').apply(pd.Series.nunique, axis = 0)",
      "execution_count": null,
      "outputs": []
    },
    {
      "metadata": {
        "trusted": true,
        "_uuid": "d0210778a9c75fc1537b14c3d90f7be88b547a59"
      },
      "cell_type": "code",
      "source": "columns = data.columns\npercent_missing = data.isnull().sum() * 100 / len(data)\nmissing_value_data = pd.DataFrame({'column_name': columns,\n                                 'percent_missing': percent_missing})\nprint(missing_value_data)",
      "execution_count": null,
      "outputs": []
    },
    {
      "metadata": {
        "trusted": true,
        "_uuid": "9034208706b8c83eac10d8d05b2a9edffb335dc0"
      },
      "cell_type": "code",
      "source": "data.drop(['inq_last_12m','total_cu_tl','inq_fi','all_util','max_bal_bc','open_rv_24m','open_rv_12m',\n           'il_util','total_bal_il','mths_since_rcnt_il','open_il_24m','open_il_12m','open_il_6m',\n           'open_acc_6m','verification_status_joint','dti_joint','annual_inc_joint','mths_since_last_major_derog',\n           'mths_since_last_record','desc','title','zip_code','emp_title','earliest_cr_line','mths_since_last_delinq','last_pymnt_d','next_pymnt_d','last_credit_pull_d'],axis=1,inplace=True)",
      "execution_count": null,
      "outputs": []
    },
    {
      "metadata": {
        "trusted": true,
        "_uuid": "593deb384457f994da81d6878a5993e1764bd56a"
      },
      "cell_type": "code",
      "source": "data.head(3)",
      "execution_count": null,
      "outputs": []
    },
    {
      "metadata": {
        "trusted": true,
        "_uuid": "74316ac3236fbe6a954f78df9ebeadc83a473c9b"
      },
      "cell_type": "code",
      "source": "print(data.isnull().sum())",
      "execution_count": null,
      "outputs": []
    },
    {
      "metadata": {
        "trusted": true,
        "_uuid": "06fb21e1f7c08183fd1cddb740bb275625ba7c56"
      },
      "cell_type": "code",
      "source": "print(data.info())",
      "execution_count": null,
      "outputs": []
    },
    {
      "metadata": {
        "trusted": true,
        "_uuid": "89ec4782669f123b9c211e0db27a8397865c4bf4"
      },
      "cell_type": "code",
      "source": "#Replacing NA with mode\ndata['emp_length'].fillna(data['emp_length'].mode()[0],inplace=True)#inplace true will make changes permanent",
      "execution_count": null,
      "outputs": []
    },
    {
      "metadata": {
        "trusted": true,
        "_uuid": "e39d53ae9aefcc43fd0093b5906bfb10817d31a4"
      },
      "cell_type": "code",
      "source": "#Replacing NA with mode\ncolname1=['tot_coll_amt','tot_cur_bal','total_rev_hi_lim']\nfor x in colname1:\n    data[x].fillna(data[x].mean(),inplace=True)#inplace true will make changes permanent",
      "execution_count": null,
      "outputs": []
    },
    {
      "metadata": {
        "trusted": true,
        "_uuid": "d979d6a5561a86b7386100a97cb035f869cb6450"
      },
      "cell_type": "code",
      "source": "data.head()",
      "execution_count": null,
      "outputs": []
    },
    {
      "metadata": {
        "trusted": true,
        "_uuid": "d81f81e63e7664f24170c6f25acc054508941ee5"
      },
      "cell_type": "code",
      "source": "data.dropna(axis=0,inplace=True)\n",
      "execution_count": null,
      "outputs": []
    },
    {
      "metadata": {
        "trusted": true,
        "_uuid": "4369f0e2d269d92326edc9a6af05f376f2243897"
      },
      "cell_type": "code",
      "source": "print(data.isnull().sum())",
      "execution_count": null,
      "outputs": []
    },
    {
      "metadata": {
        "trusted": true,
        "_uuid": "e8cd43211db1358ebe4335a870c81f10c3dd13a5"
      },
      "cell_type": "code",
      "source": "from sklearn import preprocessing\ncolname=['term','grade','sub_grade','home_ownership','verification_status','pymnt_plan']\nle={}\n\nfor x in colname:\n    le[x]=preprocessing.LabelEncoder()\n    \nfor x in colname:\n    data[x]=le[x].fit_transform(data[x])",
      "execution_count": null,
      "outputs": []
    },
    {
      "metadata": {
        "trusted": true,
        "_uuid": "9ccd910a9a3d57bebfe442bd48a61b8650d5c807"
      },
      "cell_type": "code",
      "source": "colname1=['addr_state','application_type']\nfor x in colname1:\n    \n    data[x] = pd.get_dummies(data[x])\n",
      "execution_count": null,
      "outputs": []
    },
    {
      "metadata": {
        "trusted": true,
        "_uuid": "e10b109bc4fc91a22fdb9a40d4cf7b0b83143c52"
      },
      "cell_type": "code",
      "source": "data.shape\n",
      "execution_count": null,
      "outputs": []
    },
    {
      "metadata": {
        "trusted": true,
        "_uuid": "74c9d75b87ef559a1edd72b9f7f25b010e4be3c5"
      },
      "cell_type": "code",
      "source": "data.drop(['emp_length','purpose','initial_list_status'],axis=1,inplace=True)",
      "execution_count": null,
      "outputs": []
    },
    {
      "metadata": {
        "trusted": true,
        "_uuid": "4810214df92ac75358e033c28e8666096a19de8e"
      },
      "cell_type": "code",
      "source": "data.head()",
      "execution_count": null,
      "outputs": []
    },
    {
      "metadata": {
        "trusted": true,
        "_uuid": "53482fd16ac7b9a8a2cd377473be956926fe1cbd"
      },
      "cell_type": "code",
      "source": "from sklearn.feature_selection import chi2\nscore,pvalues=chi(X,Y)\nprint(pvalues)",
      "execution_count": null,
      "outputs": []
    },
    {
      "metadata": {
        "trusted": true,
        "_uuid": "c5b9a3eac66683a3ab29fc1e318bdaf47d9117f2"
      },
      "cell_type": "code",
      "source": "train_df = data[data['issue_d'] < '2015-6-01']\ntest_df = data[data['issue_d'] >= '2015-6-01']",
      "execution_count": null,
      "outputs": []
    },
    {
      "metadata": {
        "trusted": true,
        "_uuid": "e0073caaa2eb6fb455807048c4d3da675d9c87d9"
      },
      "cell_type": "code",
      "source": "data.drop('issue_d',inplace=True,axis=1)",
      "execution_count": null,
      "outputs": []
    },
    {
      "metadata": {
        "trusted": true,
        "_uuid": "12e4b7325a87c343734868768d9e965e25152c6a"
      },
      "cell_type": "code",
      "source": "len(train_df)",
      "execution_count": null,
      "outputs": []
    },
    {
      "metadata": {
        "trusted": true,
        "_uuid": "e5188d8bf9e43c95e189b86dc2b84b5834df75f4"
      },
      "cell_type": "code",
      "source": "train_data=data.loc[0:len(train_df),:]\ntest_data=data.loc[len(train_df):,:]",
      "execution_count": null,
      "outputs": []
    },
    {
      "metadata": {
        "trusted": true,
        "_uuid": "0e61f33a7628021a492dd1ca945b0fc9640b5cc7"
      },
      "cell_type": "code",
      "source": "X_train=train_data.values[:,:-1]\nY_train=train_data.values[:,-1]\nX_test=test_data.values[:,:-1]\nY_test=test_data.values[:,-1]",
      "execution_count": null,
      "outputs": []
    },
    {
      "metadata": {
        "trusted": true,
        "_uuid": "507e8a6672c6c5be6fb1535146ac65932308f8e3"
      },
      "cell_type": "code",
      "source": "from sklearn.linear_model import LogisticRegression\nclassifier=LogisticRegression()\n#fitting training data to the model\nclassifier.fit(X_train,Y_train)\n\nY_pred=classifier.predict(X_test)\nprint(list(zip(Y_test,Y_pred)))",
      "execution_count": null,
      "outputs": []
    },
    {
      "metadata": {
        "trusted": true,
        "_uuid": "43c6503c691d77d5bd6c5bf5c05a9774d8358ba1"
      },
      "cell_type": "code",
      "source": "#confusion matrix\nfrom sklearn.metrics import confusion_matrix,accuracy_score,classification_report\ncfm=confusion_matrix(Y_test,Y_pred)\nprint(cfm)\n\nprint('classification report:')\n\nprint(classification_report(Y_test,Y_pred))\nacc=accuracy_score(Y_test,Y_pred)\nprint(\"Accuracy of the model:\",acc)\n",
      "execution_count": null,
      "outputs": []
    },
    {
      "metadata": {
        "trusted": true,
        "_uuid": "6219ed4ef13d26a61a3659d4f61a3bdbc9565f92"
      },
      "cell_type": "code",
      "source": "from sklearn.ensemble import RandomForestClassifier\nm = RandomForestClassifier(n_jobs=-1,n_estimators=1000,min_samples_leaf=3)\nm.fit(X_train,Y_train)",
      "execution_count": null,
      "outputs": []
    },
    {
      "metadata": {
        "trusted": true,
        "_uuid": "e929388305dee512e79766c4ee9d0747c152d8fc"
      },
      "cell_type": "code",
      "source": "\ny_pred = m.predict(X_test)\nprint(confusion_matrix(Y_test,y_pred))\nprint(classification_report(Y_test,y_pred))\nacc=accuracy_score(Y_test,y_pred)\nprint(\"Accuracy of the model:\",acc)",
      "execution_count": null,
      "outputs": []
    },
    {
      "metadata": {
        "trusted": true,
        "_uuid": "4d739be0af729a2a9c389dd1463eb2a41034f41b"
      },
      "cell_type": "code",
      "source": "",
      "execution_count": null,
      "outputs": []
    },
    {
      "metadata": {
        "trusted": true,
        "_uuid": "9d7ec1f1aaed42b6ed62c7886bdaf4dbf79fa025"
      },
      "cell_type": "code",
      "source": "",
      "execution_count": null,
      "outputs": []
    },
    {
      "metadata": {
        "trusted": true,
        "_uuid": "0154f4572f01f09f68c32887ff398a8b3f27669b"
      },
      "cell_type": "code",
      "source": "",
      "execution_count": null,
      "outputs": []
    }
  ],
  "metadata": {
    "kernelspec": {
      "display_name": "Python 3",
      "language": "python",
      "name": "python3"
    },
    "language_info": {
      "name": "python",
      "version": "3.6.6",
      "mimetype": "text/x-python",
      "codemirror_mode": {
        "name": "ipython",
        "version": 3
      },
      "pygments_lexer": "ipython3",
      "nbconvert_exporter": "python",
      "file_extension": ".py"
    }
  },
  "nbformat": 4,
  "nbformat_minor": 1
}