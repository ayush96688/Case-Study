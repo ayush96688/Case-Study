{
 "cells": [
  {
   "cell_type": "markdown",
   "metadata": {},
   "source": [
    "Import Necessary Libraries"
   ]
  },
  {
   "cell_type": "code",
   "execution_count": 4,
   "metadata": {
    "_cell_guid": "b1076dfc-b9ad-4769-8c92-a6c4dae69d19",
    "_uuid": "8f2839f25d086af736a60e9eeb907d3b93b6e0e5"
   },
   "outputs": [],
   "source": [
    "import pandas as pd\n",
    "import numpy as np\n",
    "import seaborn as sns\n",
    "import matplotlib.pyplot as plt\n",
    "data=pd.read_table(r'C:\\Users\\hp\\Desktop\\XYZCorp_LendingData.txt',parse_dates=['issue_d'],low_memory=False)"
   ]
  },
  {
   "cell_type": "code",
   "execution_count": 5,
   "metadata": {
    "_cell_guid": "79c7e3d0-c299-4dcb-8224-4455121ee9b0",
    "_uuid": "d629ff2d2480ee46fbb7e2d37f6b5fab8052498a"
   },
   "outputs": [
    {
     "name": "stdout",
     "output_type": "stream",
     "text": [
      "(855969, 73)\n"
     ]
    }
   ],
   "source": [
    "print(data.shape)"
   ]
  },
  {
   "cell_type": "code",
   "execution_count": 6,
   "metadata": {
    "_uuid": "3b7a90b4add41c4399e35208e7f27990daa394e1"
   },
   "outputs": [
    {
     "data": {
      "text/html": [
       "<div>\n",
       "<style scoped>\n",
       "    .dataframe tbody tr th:only-of-type {\n",
       "        vertical-align: middle;\n",
       "    }\n",
       "\n",
       "    .dataframe tbody tr th {\n",
       "        vertical-align: top;\n",
       "    }\n",
       "\n",
       "    .dataframe thead th {\n",
       "        text-align: right;\n",
       "    }\n",
       "</style>\n",
       "<table border=\"1\" class=\"dataframe\">\n",
       "  <thead>\n",
       "    <tr style=\"text-align: right;\">\n",
       "      <th></th>\n",
       "      <th>id</th>\n",
       "      <th>member_id</th>\n",
       "      <th>loan_amnt</th>\n",
       "      <th>funded_amnt</th>\n",
       "      <th>funded_amnt_inv</th>\n",
       "      <th>term</th>\n",
       "      <th>int_rate</th>\n",
       "      <th>installment</th>\n",
       "      <th>grade</th>\n",
       "      <th>sub_grade</th>\n",
       "      <th>...</th>\n",
       "      <th>il_util</th>\n",
       "      <th>open_rv_12m</th>\n",
       "      <th>open_rv_24m</th>\n",
       "      <th>max_bal_bc</th>\n",
       "      <th>all_util</th>\n",
       "      <th>total_rev_hi_lim</th>\n",
       "      <th>inq_fi</th>\n",
       "      <th>total_cu_tl</th>\n",
       "      <th>inq_last_12m</th>\n",
       "      <th>default_ind</th>\n",
       "    </tr>\n",
       "  </thead>\n",
       "  <tbody>\n",
       "    <tr>\n",
       "      <th>855964</th>\n",
       "      <td>36371250</td>\n",
       "      <td>39102635</td>\n",
       "      <td>10000.0</td>\n",
       "      <td>10000.0</td>\n",
       "      <td>10000.0</td>\n",
       "      <td>36 months</td>\n",
       "      <td>11.99</td>\n",
       "      <td>332.10</td>\n",
       "      <td>B</td>\n",
       "      <td>B5</td>\n",
       "      <td>...</td>\n",
       "      <td>NaN</td>\n",
       "      <td>NaN</td>\n",
       "      <td>NaN</td>\n",
       "      <td>NaN</td>\n",
       "      <td>NaN</td>\n",
       "      <td>17100.0</td>\n",
       "      <td>NaN</td>\n",
       "      <td>NaN</td>\n",
       "      <td>NaN</td>\n",
       "      <td>0</td>\n",
       "    </tr>\n",
       "    <tr>\n",
       "      <th>855965</th>\n",
       "      <td>36441262</td>\n",
       "      <td>39152692</td>\n",
       "      <td>24000.0</td>\n",
       "      <td>24000.0</td>\n",
       "      <td>24000.0</td>\n",
       "      <td>36 months</td>\n",
       "      <td>11.99</td>\n",
       "      <td>797.03</td>\n",
       "      <td>B</td>\n",
       "      <td>B5</td>\n",
       "      <td>...</td>\n",
       "      <td>NaN</td>\n",
       "      <td>NaN</td>\n",
       "      <td>NaN</td>\n",
       "      <td>NaN</td>\n",
       "      <td>NaN</td>\n",
       "      <td>10200.0</td>\n",
       "      <td>NaN</td>\n",
       "      <td>NaN</td>\n",
       "      <td>NaN</td>\n",
       "      <td>0</td>\n",
       "    </tr>\n",
       "    <tr>\n",
       "      <th>855966</th>\n",
       "      <td>36271333</td>\n",
       "      <td>38982739</td>\n",
       "      <td>13000.0</td>\n",
       "      <td>13000.0</td>\n",
       "      <td>13000.0</td>\n",
       "      <td>60 months</td>\n",
       "      <td>15.99</td>\n",
       "      <td>316.07</td>\n",
       "      <td>D</td>\n",
       "      <td>D2</td>\n",
       "      <td>...</td>\n",
       "      <td>NaN</td>\n",
       "      <td>NaN</td>\n",
       "      <td>NaN</td>\n",
       "      <td>NaN</td>\n",
       "      <td>NaN</td>\n",
       "      <td>18000.0</td>\n",
       "      <td>NaN</td>\n",
       "      <td>NaN</td>\n",
       "      <td>NaN</td>\n",
       "      <td>0</td>\n",
       "    </tr>\n",
       "    <tr>\n",
       "      <th>855967</th>\n",
       "      <td>36490806</td>\n",
       "      <td>39222577</td>\n",
       "      <td>12000.0</td>\n",
       "      <td>12000.0</td>\n",
       "      <td>12000.0</td>\n",
       "      <td>60 months</td>\n",
       "      <td>19.99</td>\n",
       "      <td>317.86</td>\n",
       "      <td>E</td>\n",
       "      <td>E3</td>\n",
       "      <td>...</td>\n",
       "      <td>NaN</td>\n",
       "      <td>NaN</td>\n",
       "      <td>NaN</td>\n",
       "      <td>NaN</td>\n",
       "      <td>NaN</td>\n",
       "      <td>27000.0</td>\n",
       "      <td>NaN</td>\n",
       "      <td>NaN</td>\n",
       "      <td>NaN</td>\n",
       "      <td>0</td>\n",
       "    </tr>\n",
       "    <tr>\n",
       "      <th>855968</th>\n",
       "      <td>36271262</td>\n",
       "      <td>38982659</td>\n",
       "      <td>20000.0</td>\n",
       "      <td>20000.0</td>\n",
       "      <td>20000.0</td>\n",
       "      <td>36 months</td>\n",
       "      <td>11.99</td>\n",
       "      <td>664.20</td>\n",
       "      <td>B</td>\n",
       "      <td>B5</td>\n",
       "      <td>...</td>\n",
       "      <td>NaN</td>\n",
       "      <td>NaN</td>\n",
       "      <td>NaN</td>\n",
       "      <td>NaN</td>\n",
       "      <td>NaN</td>\n",
       "      <td>41700.0</td>\n",
       "      <td>NaN</td>\n",
       "      <td>NaN</td>\n",
       "      <td>NaN</td>\n",
       "      <td>0</td>\n",
       "    </tr>\n",
       "  </tbody>\n",
       "</table>\n",
       "<p>5 rows × 73 columns</p>\n",
       "</div>"
      ],
      "text/plain": [
       "              id  member_id  loan_amnt  funded_amnt  funded_amnt_inv  \\\n",
       "855964  36371250   39102635    10000.0      10000.0          10000.0   \n",
       "855965  36441262   39152692    24000.0      24000.0          24000.0   \n",
       "855966  36271333   38982739    13000.0      13000.0          13000.0   \n",
       "855967  36490806   39222577    12000.0      12000.0          12000.0   \n",
       "855968  36271262   38982659    20000.0      20000.0          20000.0   \n",
       "\n",
       "              term  int_rate  installment grade sub_grade     ...     il_util  \\\n",
       "855964   36 months     11.99       332.10     B        B5     ...         NaN   \n",
       "855965   36 months     11.99       797.03     B        B5     ...         NaN   \n",
       "855966   60 months     15.99       316.07     D        D2     ...         NaN   \n",
       "855967   60 months     19.99       317.86     E        E3     ...         NaN   \n",
       "855968   36 months     11.99       664.20     B        B5     ...         NaN   \n",
       "\n",
       "       open_rv_12m open_rv_24m  max_bal_bc all_util total_rev_hi_lim inq_fi  \\\n",
       "855964         NaN         NaN         NaN      NaN          17100.0    NaN   \n",
       "855965         NaN         NaN         NaN      NaN          10200.0    NaN   \n",
       "855966         NaN         NaN         NaN      NaN          18000.0    NaN   \n",
       "855967         NaN         NaN         NaN      NaN          27000.0    NaN   \n",
       "855968         NaN         NaN         NaN      NaN          41700.0    NaN   \n",
       "\n",
       "       total_cu_tl inq_last_12m default_ind  \n",
       "855964         NaN          NaN           0  \n",
       "855965         NaN          NaN           0  \n",
       "855966         NaN          NaN           0  \n",
       "855967         NaN          NaN           0  \n",
       "855968         NaN          NaN           0  \n",
       "\n",
       "[5 rows x 73 columns]"
      ]
     },
     "execution_count": 6,
     "metadata": {},
     "output_type": "execute_result"
    }
   ],
   "source": [
    "data.tail()"
   ]
  },
  {
   "cell_type": "code",
   "execution_count": 7,
   "metadata": {
    "_uuid": "f633ded2ba0a00e37b95874b2bad551033354284"
   },
   "outputs": [
    {
     "name": "stdout",
     "output_type": "stream",
     "text": [
      "<class 'pandas.core.frame.DataFrame'>\n",
      "RangeIndex: 855969 entries, 0 to 855968\n",
      "Data columns (total 73 columns):\n",
      "id                             855969 non-null int64\n",
      "member_id                      855969 non-null int64\n",
      "loan_amnt                      855969 non-null float64\n",
      "funded_amnt                    855969 non-null float64\n",
      "funded_amnt_inv                855969 non-null float64\n",
      "term                           855969 non-null object\n",
      "int_rate                       855969 non-null float64\n",
      "installment                    855969 non-null float64\n",
      "grade                          855969 non-null object\n",
      "sub_grade                      855969 non-null object\n",
      "emp_title                      806526 non-null object\n",
      "emp_length                     812908 non-null object\n",
      "home_ownership                 855969 non-null object\n",
      "annual_inc                     855969 non-null float64\n",
      "verification_status            855969 non-null object\n",
      "issue_d                        855969 non-null datetime64[ns]\n",
      "pymnt_plan                     855969 non-null object\n",
      "desc                           121812 non-null object\n",
      "purpose                        855969 non-null object\n",
      "title                          855936 non-null object\n",
      "zip_code                       855969 non-null object\n",
      "addr_state                     855969 non-null object\n",
      "dti                            855969 non-null float64\n",
      "delinq_2yrs                    855969 non-null float64\n",
      "earliest_cr_line               855969 non-null object\n",
      "inq_last_6mths                 855969 non-null float64\n",
      "mths_since_last_delinq         416157 non-null float64\n",
      "mths_since_last_record         131184 non-null float64\n",
      "open_acc                       855969 non-null float64\n",
      "pub_rec                        855969 non-null float64\n",
      "revol_bal                      855969 non-null float64\n",
      "revol_util                     855523 non-null float64\n",
      "total_acc                      855969 non-null float64\n",
      "initial_list_status            855969 non-null object\n",
      "out_prncp                      855969 non-null float64\n",
      "out_prncp_inv                  855969 non-null float64\n",
      "total_pymnt                    855969 non-null float64\n",
      "total_pymnt_inv                855969 non-null float64\n",
      "total_rec_prncp                855969 non-null float64\n",
      "total_rec_int                  855969 non-null float64\n",
      "total_rec_late_fee             855969 non-null float64\n",
      "recoveries                     855969 non-null float64\n",
      "collection_recovery_fee        855969 non-null float64\n",
      "last_pymnt_d                   847107 non-null object\n",
      "last_pymnt_amnt                855969 non-null float64\n",
      "next_pymnt_d                   602998 non-null object\n",
      "last_credit_pull_d             855919 non-null object\n",
      "collections_12_mths_ex_med     855913 non-null float64\n",
      "mths_since_last_major_derog    213139 non-null float64\n",
      "policy_code                    855969 non-null float64\n",
      "application_type               855969 non-null object\n",
      "annual_inc_joint               442 non-null float64\n",
      "dti_joint                      440 non-null float64\n",
      "verification_status_joint      442 non-null object\n",
      "acc_now_delinq                 855969 non-null float64\n",
      "tot_coll_amt                   788656 non-null float64\n",
      "tot_cur_bal                    788656 non-null float64\n",
      "open_acc_6m                    13288 non-null float64\n",
      "open_il_6m                     13288 non-null float64\n",
      "open_il_12m                    13288 non-null float64\n",
      "open_il_24m                    13288 non-null float64\n",
      "mths_since_rcnt_il             12934 non-null float64\n",
      "total_bal_il                   13288 non-null float64\n",
      "il_util                        11609 non-null float64\n",
      "open_rv_12m                    13288 non-null float64\n",
      "open_rv_24m                    13288 non-null float64\n",
      "max_bal_bc                     13288 non-null float64\n",
      "all_util                       13288 non-null float64\n",
      "total_rev_hi_lim               788656 non-null float64\n",
      "inq_fi                         13288 non-null float64\n",
      "total_cu_tl                    13288 non-null float64\n",
      "inq_last_12m                   13288 non-null float64\n",
      "default_ind                    855969 non-null int64\n",
      "dtypes: datetime64[ns](1), float64(49), int64(3), object(20)\n",
      "memory usage: 476.7+ MB\n",
      "None\n"
     ]
    }
   ],
   "source": [
    "print(data.info())"
   ]
  },
  {
   "cell_type": "markdown",
   "metadata": {},
   "source": [
    "Seperate train and test set"
   ]
  },
  {
   "cell_type": "code",
   "execution_count": 8,
   "metadata": {
    "_uuid": "96bb7da6bd38c7872980adf5f4575058e85fe5cf"
   },
   "outputs": [],
   "source": [
    "\n",
    "train = data[data['issue_d'] < '2015-6-01']\n",
    "test = data[data['issue_d'] >= '2015-6-01']"
   ]
  },
  {
   "cell_type": "code",
   "execution_count": 9,
   "metadata": {
    "_uuid": "b4ae62c541c8d1a8707bce7df2fce8b86f1d61ae"
   },
   "outputs": [
    {
     "name": "stdout",
     "output_type": "stream",
     "text": [
      "(598978, 73)\n",
      "(256991, 73)\n"
     ]
    }
   ],
   "source": [
    "print(train.shape)\n",
    "print(test.shape)"
   ]
  },
  {
   "cell_type": "markdown",
   "metadata": {},
   "source": [
    "# Distribution of loan parameters."
   ]
  },
  {
   "cell_type": "markdown",
   "metadata": {},
   "source": [
    "We can see that there is adequate balance between funding and credit. "
   ]
  },
  {
   "cell_type": "code",
   "execution_count": 10,
   "metadata": {
    "_uuid": "c47a04957f01eb90f2dcfb395cf23614947bab9a"
   },
   "outputs": [
    {
     "data": {
      "text/plain": [
       "<matplotlib.axes._subplots.AxesSubplot at 0x1db0d006d30>"
      ]
     },
     "execution_count": 10,
     "metadata": {},
     "output_type": "execute_result"
    },
    {
     "data": {
      "image/png": "[encoded data removed]",
      "text/plain": [
       "<Figure size 432x288 with 1 Axes>"
      ]
     },
     "metadata": {},
     "output_type": "display_data"
    }
   ],
   "source": [
    "#distribution of dependent variable\n",
    "train['default_ind'].value_counts().plot.bar()"
   ]
  },
  {
   "cell_type": "code",
   "execution_count": 11,
   "metadata": {
    "_uuid": "a66b30e00a2216c1239792c03bd0062bde73c2f2"
   },
   "outputs": [
    {
     "name": "stderr",
     "output_type": "stream",
     "text": [
      "C:\\Users\\hp\\Anaconda3\\lib\\site-packages\\matplotlib\\axes\\_axes.py:6462: UserWarning: The 'normed' kwarg is deprecated, and has been replaced by the 'density' kwarg.\n",
      "  warnings.warn(\"The 'normed' kwarg is deprecated, and has been \"\n",
      "C:\\Users\\hp\\Anaconda3\\lib\\site-packages\\matplotlib\\axes\\_axes.py:6462: UserWarning: The 'normed' kwarg is deprecated, and has been replaced by the 'density' kwarg.\n",
      "  warnings.warn(\"The 'normed' kwarg is deprecated, and has been \"\n",
      "C:\\Users\\hp\\Anaconda3\\lib\\site-packages\\matplotlib\\axes\\_axes.py:6462: UserWarning: The 'normed' kwarg is deprecated, and has been replaced by the 'density' kwarg.\n",
      "  warnings.warn(\"The 'normed' kwarg is deprecated, and has been \"\n"
     ]
    },
    {
     "data": {
      "text/plain": [
       "Text(0.5,1,'Total committed by Investors')"
      ]
     },
     "execution_count": 11,
     "metadata": {},
     "output_type": "execute_result"
    },
    {
     "data": {
      "image/png": "[encoded data removed]",
      "text/plain": [
       "<Figure size 1152x360 with 3 Axes>"
      ]
     },
     "metadata": {},
     "output_type": "display_data"
    }
   ],
   "source": [
    "fig, ax = plt.subplots(1, 3, figsize=(16,5))\n",
    "\n",
    "sns.distplot(train['loan_amnt'], ax=ax[0])\n",
    "sns.distplot(train['funded_amnt'], ax=ax[1])\n",
    "sns.distplot(train['funded_amnt_inv'], ax=ax[2])\n",
    "\n",
    "ax[1].set_title(\"Amount Funded by the Lender\")\n",
    "ax[0].set_title(\"Loan Applied by the Borrower\")\n",
    "ax[2].set_title(\"Total committed by Investors\")"
   ]
  },
  {
   "cell_type": "markdown",
   "metadata": {},
   "source": [
    "# Purpose of loan"
   ]
  },
  {
   "cell_type": "markdown",
   "metadata": {},
   "source": [
    "Debt consolidation stands as a clear winner for loan purposewith 58% of the total.\n",
    "Following it comes credit card with more than 130k loans(20%) of the total"
   ]
  },
  {
   "cell_type": "code",
   "execution_count": 12,
   "metadata": {
    "_uuid": "4dee84ecb7fd2f440ccef099a5f3c9f4bac38a11"
   },
   "outputs": [
    {
     "data": {
      "image/png": "[encoded data removed]",
      "text/plain": [
       "<Figure size 720x360 with 1 Axes>"
      ]
     },
     "metadata": {},
     "output_type": "display_data"
    }
   ],
   "source": [
    "train.purpose.value_counts(ascending=False).plot.bar(figsize=(10,5))\n",
    "plt.xlabel('purpose'); plt.ylabel('Density'); plt.title('Purpose of loan');"
   ]
  },
  {
   "cell_type": "markdown",
   "metadata": {},
   "source": [
    "# Amount of loans issued"
   ]
  },
  {
   "cell_type": "markdown",
   "metadata": {},
   "source": [
    "We can see that the loans are being issued in an incremental orderand mst loans were issued in 2015."
   ]
  },
  {
   "cell_type": "code",
   "execution_count": 13,
   "metadata": {
    "_uuid": "6adb2941a8846f343ad5b2ce12794863048e82db"
   },
   "outputs": [
    {
     "name": "stderr",
     "output_type": "stream",
     "text": [
      "C:\\Users\\hp\\Anaconda3\\lib\\site-packages\\ipykernel_launcher.py:2: SettingWithCopyWarning: \n",
      "A value is trying to be set on a copy of a slice from a DataFrame.\n",
      "Try using .loc[row_indexer,col_indexer] = value instead\n",
      "\n",
      "See the caveats in the documentation: http://pandas.pydata.org/pandas-docs/stable/indexing.html#indexing-view-versus-copy\n",
      "  \n"
     ]
    },
    {
     "data": {
      "text/plain": [
       "<matplotlib.axes._subplots.AxesSubplot at 0x1db0cfb8be0>"
      ]
     },
     "execution_count": 13,
     "metadata": {},
     "output_type": "execute_result"
    },
    {
     "data": {
      "image/png": "[encoded data removed]",
      "text/plain": [
       "<Figure size 720x360 with 1 Axes>"
      ]
     },
     "metadata": {},
     "output_type": "display_data"
    }
   ],
   "source": [
    "\n",
    "train['issue_year'] = train['issue_d'].dt.year\n",
    "plt.figure(figsize=(10,5))\n",
    "sns.barplot(x='issue_year',y='loan_amnt',data=train)"
   ]
  },
  {
   "cell_type": "markdown",
   "metadata": {},
   "source": [
    "# Loan Status"
   ]
  },
  {
   "cell_type": "markdown",
   "metadata": {},
   "source": [
    "2014 & 2015 were the best years becausethenon-defaulters were more than defaulters."
   ]
  },
  {
   "cell_type": "code",
   "execution_count": 14,
   "metadata": {
    "_uuid": "4b1bd1ad75cddaa28c4598a8a982476840212f76"
   },
   "outputs": [
    {
     "data": {
      "text/plain": [
       "Text(0.5,1,'Yearwise Distribution of defaulter')"
      ]
     },
     "execution_count": 14,
     "metadata": {},
     "output_type": "execute_result"
    },
    {
     "data": {
      "image/png": "[encoded data removed]",
      "text/plain": [
       "<Figure size 1152x360 with 2 Axes>"
      ]
     },
     "metadata": {},
     "output_type": "display_data"
    }
   ],
   "source": [
    "# Loan Status \n",
    "fig, ax = plt.subplots(1, 2, figsize=(16,5))\n",
    "train['default_ind'].value_counts().plot.pie(explode=[0,0.25],labels=['good loans','bad loans'],\n",
    "                                             autopct='%1.2f%%',startangle=70,ax=ax[0])\n",
    "sns.kdeplot(train.loc[train['default_ind']==0,'issue_year'],label='default_ind = 0')\n",
    "sns.kdeplot(train.loc[train['default_ind']==1,'issue_year'],label='default_ind = 1')\n",
    "plt.xlabel('Year'); plt.ylabel('Density'); plt.title('Yearwise Distribution of defaulter')"
   ]
  },
  {
   "cell_type": "markdown",
   "metadata": {},
   "source": [
    "# Grade"
   ]
  },
  {
   "cell_type": "code",
   "execution_count": 15,
   "metadata": {
    "_uuid": "b46724738e6c7b56ab8a3a266632d7336c12f7fe"
   },
   "outputs": [
    {
     "data": {
      "text/plain": [
       "<matplotlib.axes._subplots.AxesSubplot at 0x1db016895f8>"
      ]
     },
     "execution_count": 15,
     "metadata": {},
     "output_type": "execute_result"
    },
    {
     "data": {
      "image/png": "[encoded data removed]",
      "text/plain": [
       "<Figure size 432x288 with 1 Axes>"
      ]
     },
     "metadata": {},
     "output_type": "display_data"
    }
   ],
   "source": [
    "train.grade.value_counts().plot.bar()"
   ]
  },
  {
   "cell_type": "code",
   "execution_count": 16,
   "metadata": {
    "_uuid": "6d20176bcb114d9294f60b151ee97fe89e606df7"
   },
   "outputs": [
    {
     "data": {
      "text/plain": [
       "(Text(0.5,1,'default_ind=0 vs grade'), Text(0.5,1,'default_ind=1 vs grade'))"
      ]
     },
     "execution_count": 16,
     "metadata": {},
     "output_type": "execute_result"
    },
    {
     "data": {
      "image/png": "[encoded data removed]",
      "text/plain": [
       "<Figure size 864x360 with 2 Axes>"
      ]
     },
     "metadata": {},
     "output_type": "display_data"
    }
   ],
   "source": [
    "fig,array=plt.subplots(1,2,figsize=(12,5))\n",
    "train.loc[train['default_ind']==0,'grade'].value_counts().plot.bar(ax=array[0])\n",
    "train.loc[train['default_ind']==1,'grade'].value_counts().plot.bar(ax=array[1])\n",
    "array[0].set_title('default_ind=0 vs grade'),array[1].set_title('default_ind=1 vs grade')"
   ]
  },
  {
   "cell_type": "code",
   "execution_count": 17,
   "metadata": {
    "_uuid": "06c169eb5a718b6192f7ca02ca5dc4b3c9150ce5"
   },
   "outputs": [
    {
     "name": "stdout",
     "output_type": "stream",
     "text": [
      "id                                  0\n",
      "member_id                           0\n",
      "loan_amnt                           0\n",
      "funded_amnt                         0\n",
      "funded_amnt_inv                     0\n",
      "term                                0\n",
      "int_rate                            0\n",
      "installment                         0\n",
      "grade                               0\n",
      "sub_grade                           0\n",
      "emp_title                       49443\n",
      "emp_length                      43061\n",
      "home_ownership                      0\n",
      "annual_inc                          0\n",
      "verification_status                 0\n",
      "issue_d                             0\n",
      "pymnt_plan                          0\n",
      "desc                           734157\n",
      "purpose                             0\n",
      "title                              33\n",
      "zip_code                            0\n",
      "addr_state                          0\n",
      "dti                                 0\n",
      "delinq_2yrs                         0\n",
      "earliest_cr_line                    0\n",
      "inq_last_6mths                      0\n",
      "mths_since_last_delinq         439812\n",
      "mths_since_last_record         724785\n",
      "open_acc                            0\n",
      "pub_rec                             0\n",
      "                                ...  \n",
      "last_pymnt_d                     8862\n",
      "last_pymnt_amnt                     0\n",
      "next_pymnt_d                   252971\n",
      "last_credit_pull_d                 50\n",
      "collections_12_mths_ex_med         56\n",
      "mths_since_last_major_derog    642830\n",
      "policy_code                         0\n",
      "application_type                    0\n",
      "annual_inc_joint               855527\n",
      "dti_joint                      855529\n",
      "verification_status_joint      855527\n",
      "acc_now_delinq                      0\n",
      "tot_coll_amt                    67313\n",
      "tot_cur_bal                     67313\n",
      "open_acc_6m                    842681\n",
      "open_il_6m                     842681\n",
      "open_il_12m                    842681\n",
      "open_il_24m                    842681\n",
      "mths_since_rcnt_il             843035\n",
      "total_bal_il                   842681\n",
      "il_util                        844360\n",
      "open_rv_12m                    842681\n",
      "open_rv_24m                    842681\n",
      "max_bal_bc                     842681\n",
      "all_util                       842681\n",
      "total_rev_hi_lim                67313\n",
      "inq_fi                         842681\n",
      "total_cu_tl                    842681\n",
      "inq_last_12m                   842681\n",
      "default_ind                         0\n",
      "Length: 73, dtype: int64\n"
     ]
    }
   ],
   "source": [
    "print(data.isnull().sum())"
   ]
  },
  {
   "cell_type": "code",
   "execution_count": 18,
   "metadata": {
    "_uuid": "6f5af9c46fc24cecdb693444ba1fc3bbb900718c"
   },
   "outputs": [
    {
     "data": {
      "text/plain": [
       "term                              2\n",
       "grade                             7\n",
       "sub_grade                        35\n",
       "emp_title                    290912\n",
       "emp_length                       11\n",
       "home_ownership                    6\n",
       "verification_status               3\n",
       "pymnt_plan                        2\n",
       "desc                         120335\n",
       "purpose                          14\n",
       "title                         60991\n",
       "zip_code                        931\n",
       "addr_state                       51\n",
       "earliest_cr_line                697\n",
       "initial_list_status               2\n",
       "last_pymnt_d                     97\n",
       "next_pymnt_d                      3\n",
       "last_credit_pull_d              102\n",
       "application_type                  2\n",
       "verification_status_joint         3\n",
       "dtype: int64"
      ]
     },
     "execution_count": 18,
     "metadata": {},
     "output_type": "execute_result"
    }
   ],
   "source": [
    "data.select_dtypes('object').apply(pd.Series.nunique, axis = 0)"
   ]
  },
  {
   "cell_type": "markdown",
   "metadata": {},
   "source": [
    "# Percentage of missing values"
   ]
  },
  {
   "cell_type": "code",
   "execution_count": 19,
   "metadata": {
    "_uuid": "d0210778a9c75fc1537b14c3d90f7be88b547a59"
   },
   "outputs": [
    {
     "name": "stdout",
     "output_type": "stream",
     "text": [
      "                                             column_name  percent_missing\n",
      "id                                                    id         0.000000\n",
      "member_id                                      member_id         0.000000\n",
      "loan_amnt                                      loan_amnt         0.000000\n",
      "funded_amnt                                  funded_amnt         0.000000\n",
      "funded_amnt_inv                          funded_amnt_inv         0.000000\n",
      "term                                                term         0.000000\n",
      "int_rate                                        int_rate         0.000000\n",
      "installment                                  installment         0.000000\n",
      "grade                                              grade         0.000000\n",
      "sub_grade                                      sub_grade         0.000000\n",
      "emp_title                                      emp_title         5.776261\n",
      "emp_length                                    emp_length         5.030673\n",
      "home_ownership                            home_ownership         0.000000\n",
      "annual_inc                                    annual_inc         0.000000\n",
      "verification_status                  verification_status         0.000000\n",
      "issue_d                                          issue_d         0.000000\n",
      "pymnt_plan                                    pymnt_plan         0.000000\n",
      "desc                                                desc        85.769111\n",
      "purpose                                          purpose         0.000000\n",
      "title                                              title         0.003855\n",
      "zip_code                                        zip_code         0.000000\n",
      "addr_state                                    addr_state         0.000000\n",
      "dti                                                  dti         0.000000\n",
      "delinq_2yrs                                  delinq_2yrs         0.000000\n",
      "earliest_cr_line                        earliest_cr_line         0.000000\n",
      "inq_last_6mths                            inq_last_6mths         0.000000\n",
      "mths_since_last_delinq            mths_since_last_delinq        51.381767\n",
      "mths_since_last_record            mths_since_last_record        84.674211\n",
      "open_acc                                        open_acc         0.000000\n",
      "pub_rec                                          pub_rec         0.000000\n",
      "...                                                  ...              ...\n",
      "last_pymnt_d                                last_pymnt_d         1.035318\n",
      "last_pymnt_amnt                          last_pymnt_amnt         0.000000\n",
      "next_pymnt_d                                next_pymnt_d        29.553757\n",
      "last_credit_pull_d                    last_credit_pull_d         0.005841\n",
      "collections_12_mths_ex_med    collections_12_mths_ex_med         0.006542\n",
      "mths_since_last_major_derog  mths_since_last_major_derog        75.099682\n",
      "policy_code                                  policy_code         0.000000\n",
      "application_type                        application_type         0.000000\n",
      "annual_inc_joint                        annual_inc_joint        99.948363\n",
      "dti_joint                                      dti_joint        99.948596\n",
      "verification_status_joint      verification_status_joint        99.948363\n",
      "acc_now_delinq                            acc_now_delinq         0.000000\n",
      "tot_coll_amt                                tot_coll_amt         7.863953\n",
      "tot_cur_bal                                  tot_cur_bal         7.863953\n",
      "open_acc_6m                                  open_acc_6m        98.447607\n",
      "open_il_6m                                    open_il_6m        98.447607\n",
      "open_il_12m                                  open_il_12m        98.447607\n",
      "open_il_24m                                  open_il_24m        98.447607\n",
      "mths_since_rcnt_il                    mths_since_rcnt_il        98.488964\n",
      "total_bal_il                                total_bal_il        98.447607\n",
      "il_util                                          il_util        98.643759\n",
      "open_rv_12m                                  open_rv_12m        98.447607\n",
      "open_rv_24m                                  open_rv_24m        98.447607\n",
      "max_bal_bc                                    max_bal_bc        98.447607\n",
      "all_util                                        all_util        98.447607\n",
      "total_rev_hi_lim                        total_rev_hi_lim         7.863953\n",
      "inq_fi                                            inq_fi        98.447607\n",
      "total_cu_tl                                  total_cu_tl        98.447607\n",
      "inq_last_12m                                inq_last_12m        98.447607\n",
      "default_ind                                  default_ind         0.000000\n",
      "\n",
      "[73 rows x 2 columns]\n"
     ]
    }
   ],
   "source": [
    "columns = data.columns\n",
    "percent_missing = data.isnull().sum() * 100 / len(data)\n",
    "missing_value_data = pd.DataFrame({'column_name': columns,\n",
    "                                 'percent_missing': percent_missing})\n",
    "print(missing_value_data)"
   ]
  },
  {
   "cell_type": "markdown",
   "metadata": {},
   "source": [
    "Dropping columns whose missing values were more than 40%"
   ]
  },
  {
   "cell_type": "code",
   "execution_count": 21,
   "metadata": {
    "_uuid": "9034208706b8c83eac10d8d05b2a9edffb335dc0"
   },
   "outputs": [],
   "source": [
    "data.drop(['inq_last_12m','total_cu_tl','inq_fi','all_util','max_bal_bc','open_rv_24m','open_rv_12m',\n",
    "           'il_util','total_bal_il','mths_since_rcnt_il','open_il_24m','open_il_12m','open_il_6m',\n",
    "           'open_acc_6m','verification_status_joint','dti_joint','annual_inc_joint','mths_since_last_major_derog',\n",
    "           'mths_since_last_record','desc','title','zip_code','emp_title','earliest_cr_line','mths_since_last_delinq','last_pymnt_d','next_pymnt_d','last_credit_pull_d'],axis=1,inplace=True)"
   ]
  },
  {
   "cell_type": "code",
   "execution_count": 22,
   "metadata": {
    "_uuid": "593deb384457f994da81d6878a5993e1764bd56a"
   },
   "outputs": [
    {
     "data": {
      "text/html": [
       "<div>\n",
       "<style scoped>\n",
       "    .dataframe tbody tr th:only-of-type {\n",
       "        vertical-align: middle;\n",
       "    }\n",
       "\n",
       "    .dataframe tbody tr th {\n",
       "        vertical-align: top;\n",
       "    }\n",
       "\n",
       "    .dataframe thead th {\n",
       "        text-align: right;\n",
       "    }\n",
       "</style>\n",
       "<table border=\"1\" class=\"dataframe\">\n",
       "  <thead>\n",
       "    <tr style=\"text-align: right;\">\n",
       "      <th></th>\n",
       "      <th>id</th>\n",
       "      <th>member_id</th>\n",
       "      <th>loan_amnt</th>\n",
       "      <th>funded_amnt</th>\n",
       "      <th>funded_amnt_inv</th>\n",
       "      <th>term</th>\n",
       "      <th>int_rate</th>\n",
       "      <th>installment</th>\n",
       "      <th>grade</th>\n",
       "      <th>sub_grade</th>\n",
       "      <th>...</th>\n",
       "      <th>collection_recovery_fee</th>\n",
       "      <th>last_pymnt_amnt</th>\n",
       "      <th>collections_12_mths_ex_med</th>\n",
       "      <th>policy_code</th>\n",
       "      <th>application_type</th>\n",
       "      <th>acc_now_delinq</th>\n",
       "      <th>tot_coll_amt</th>\n",
       "      <th>tot_cur_bal</th>\n",
       "      <th>total_rev_hi_lim</th>\n",
       "      <th>default_ind</th>\n",
       "    </tr>\n",
       "  </thead>\n",
       "  <tbody>\n",
       "    <tr>\n",
       "      <th>0</th>\n",
       "      <td>1077501</td>\n",
       "      <td>1296599</td>\n",
       "      <td>5000.0</td>\n",
       "      <td>5000.0</td>\n",
       "      <td>4975.0</td>\n",
       "      <td>36 months</td>\n",
       "      <td>10.65</td>\n",
       "      <td>162.87</td>\n",
       "      <td>B</td>\n",
       "      <td>B2</td>\n",
       "      <td>...</td>\n",
       "      <td>0.00</td>\n",
       "      <td>171.62</td>\n",
       "      <td>0.0</td>\n",
       "      <td>1.0</td>\n",
       "      <td>INDIVIDUAL</td>\n",
       "      <td>0.0</td>\n",
       "      <td>NaN</td>\n",
       "      <td>NaN</td>\n",
       "      <td>NaN</td>\n",
       "      <td>0</td>\n",
       "    </tr>\n",
       "    <tr>\n",
       "      <th>1</th>\n",
       "      <td>1077430</td>\n",
       "      <td>1314167</td>\n",
       "      <td>2500.0</td>\n",
       "      <td>2500.0</td>\n",
       "      <td>2500.0</td>\n",
       "      <td>60 months</td>\n",
       "      <td>15.27</td>\n",
       "      <td>59.83</td>\n",
       "      <td>C</td>\n",
       "      <td>C4</td>\n",
       "      <td>...</td>\n",
       "      <td>1.11</td>\n",
       "      <td>119.66</td>\n",
       "      <td>0.0</td>\n",
       "      <td>1.0</td>\n",
       "      <td>INDIVIDUAL</td>\n",
       "      <td>0.0</td>\n",
       "      <td>NaN</td>\n",
       "      <td>NaN</td>\n",
       "      <td>NaN</td>\n",
       "      <td>1</td>\n",
       "    </tr>\n",
       "    <tr>\n",
       "      <th>2</th>\n",
       "      <td>1077175</td>\n",
       "      <td>1313524</td>\n",
       "      <td>2400.0</td>\n",
       "      <td>2400.0</td>\n",
       "      <td>2400.0</td>\n",
       "      <td>36 months</td>\n",
       "      <td>15.96</td>\n",
       "      <td>84.33</td>\n",
       "      <td>C</td>\n",
       "      <td>C5</td>\n",
       "      <td>...</td>\n",
       "      <td>0.00</td>\n",
       "      <td>649.91</td>\n",
       "      <td>0.0</td>\n",
       "      <td>1.0</td>\n",
       "      <td>INDIVIDUAL</td>\n",
       "      <td>0.0</td>\n",
       "      <td>NaN</td>\n",
       "      <td>NaN</td>\n",
       "      <td>NaN</td>\n",
       "      <td>0</td>\n",
       "    </tr>\n",
       "  </tbody>\n",
       "</table>\n",
       "<p>3 rows × 45 columns</p>\n",
       "</div>"
      ],
      "text/plain": [
       "        id  member_id  loan_amnt  funded_amnt  funded_amnt_inv        term  \\\n",
       "0  1077501    1296599     5000.0       5000.0           4975.0   36 months   \n",
       "1  1077430    1314167     2500.0       2500.0           2500.0   60 months   \n",
       "2  1077175    1313524     2400.0       2400.0           2400.0   36 months   \n",
       "\n",
       "   int_rate  installment grade sub_grade     ...      collection_recovery_fee  \\\n",
       "0     10.65       162.87     B        B2     ...                         0.00   \n",
       "1     15.27        59.83     C        C4     ...                         1.11   \n",
       "2     15.96        84.33     C        C5     ...                         0.00   \n",
       "\n",
       "  last_pymnt_amnt  collections_12_mths_ex_med policy_code application_type  \\\n",
       "0          171.62                         0.0         1.0       INDIVIDUAL   \n",
       "1          119.66                         0.0         1.0       INDIVIDUAL   \n",
       "2          649.91                         0.0         1.0       INDIVIDUAL   \n",
       "\n",
       "  acc_now_delinq tot_coll_amt tot_cur_bal  total_rev_hi_lim  default_ind  \n",
       "0            0.0          NaN         NaN               NaN            0  \n",
       "1            0.0          NaN         NaN               NaN            1  \n",
       "2            0.0          NaN         NaN               NaN            0  \n",
       "\n",
       "[3 rows x 45 columns]"
      ]
     },
     "execution_count": 22,
     "metadata": {},
     "output_type": "execute_result"
    }
   ],
   "source": [
    "data.head(3)"
   ]
  },
  {
   "cell_type": "code",
   "execution_count": 23,
   "metadata": {
    "_uuid": "74316ac3236fbe6a954f78df9ebeadc83a473c9b"
   },
   "outputs": [
    {
     "name": "stdout",
     "output_type": "stream",
     "text": [
      "id                                0\n",
      "member_id                         0\n",
      "loan_amnt                         0\n",
      "funded_amnt                       0\n",
      "funded_amnt_inv                   0\n",
      "term                              0\n",
      "int_rate                          0\n",
      "installment                       0\n",
      "grade                             0\n",
      "sub_grade                         0\n",
      "emp_length                    43061\n",
      "home_ownership                    0\n",
      "annual_inc                        0\n",
      "verification_status               0\n",
      "issue_d                           0\n",
      "pymnt_plan                        0\n",
      "purpose                           0\n",
      "addr_state                        0\n",
      "dti                               0\n",
      "delinq_2yrs                       0\n",
      "inq_last_6mths                    0\n",
      "open_acc                          0\n",
      "pub_rec                           0\n",
      "revol_bal                         0\n",
      "revol_util                      446\n",
      "total_acc                         0\n",
      "initial_list_status               0\n",
      "out_prncp                         0\n",
      "out_prncp_inv                     0\n",
      "total_pymnt                       0\n",
      "total_pymnt_inv                   0\n",
      "total_rec_prncp                   0\n",
      "total_rec_int                     0\n",
      "total_rec_late_fee                0\n",
      "recoveries                        0\n",
      "collection_recovery_fee           0\n",
      "last_pymnt_amnt                   0\n",
      "collections_12_mths_ex_med       56\n",
      "policy_code                       0\n",
      "application_type                  0\n",
      "acc_now_delinq                    0\n",
      "tot_coll_amt                  67313\n",
      "tot_cur_bal                   67313\n",
      "total_rev_hi_lim              67313\n",
      "default_ind                       0\n",
      "dtype: int64\n"
     ]
    }
   ],
   "source": [
    "print(data.isnull().sum())"
   ]
  },
  {
   "cell_type": "code",
   "execution_count": 24,
   "metadata": {
    "_uuid": "06fb21e1f7c08183fd1cddb740bb275625ba7c56"
   },
   "outputs": [
    {
     "name": "stdout",
     "output_type": "stream",
     "text": [
      "<class 'pandas.core.frame.DataFrame'>\n",
      "RangeIndex: 855969 entries, 0 to 855968\n",
      "Data columns (total 45 columns):\n",
      "id                            855969 non-null int64\n",
      "member_id                     855969 non-null int64\n",
      "loan_amnt                     855969 non-null float64\n",
      "funded_amnt                   855969 non-null float64\n",
      "funded_amnt_inv               855969 non-null float64\n",
      "term                          855969 non-null object\n",
      "int_rate                      855969 non-null float64\n",
      "installment                   855969 non-null float64\n",
      "grade                         855969 non-null object\n",
      "sub_grade                     855969 non-null object\n",
      "emp_length                    812908 non-null object\n",
      "home_ownership                855969 non-null object\n",
      "annual_inc                    855969 non-null float64\n",
      "verification_status           855969 non-null object\n",
      "issue_d                       855969 non-null datetime64[ns]\n",
      "pymnt_plan                    855969 non-null object\n",
      "purpose                       855969 non-null object\n",
      "addr_state                    855969 non-null object\n",
      "dti                           855969 non-null float64\n",
      "delinq_2yrs                   855969 non-null float64\n",
      "inq_last_6mths                855969 non-null float64\n",
      "open_acc                      855969 non-null float64\n",
      "pub_rec                       855969 non-null float64\n",
      "revol_bal                     855969 non-null float64\n",
      "revol_util                    855523 non-null float64\n",
      "total_acc                     855969 non-null float64\n",
      "initial_list_status           855969 non-null object\n",
      "out_prncp                     855969 non-null float64\n",
      "out_prncp_inv                 855969 non-null float64\n",
      "total_pymnt                   855969 non-null float64\n",
      "total_pymnt_inv               855969 non-null float64\n",
      "total_rec_prncp               855969 non-null float64\n",
      "total_rec_int                 855969 non-null float64\n",
      "total_rec_late_fee            855969 non-null float64\n",
      "recoveries                    855969 non-null float64\n",
      "collection_recovery_fee       855969 non-null float64\n",
      "last_pymnt_amnt               855969 non-null float64\n",
      "collections_12_mths_ex_med    855913 non-null float64\n",
      "policy_code                   855969 non-null float64\n",
      "application_type              855969 non-null object\n",
      "acc_now_delinq                855969 non-null float64\n",
      "tot_coll_amt                  788656 non-null float64\n",
      "tot_cur_bal                   788656 non-null float64\n",
      "total_rev_hi_lim              788656 non-null float64\n",
      "default_ind                   855969 non-null int64\n",
      "dtypes: datetime64[ns](1), float64(30), int64(3), object(11)\n",
      "memory usage: 293.9+ MB\n",
      "None\n"
     ]
    }
   ],
   "source": [
    "print(data.info())"
   ]
  },
  {
   "cell_type": "code",
   "execution_count": 25,
   "metadata": {
    "_uuid": "89ec4782669f123b9c211e0db27a8397865c4bf4"
   },
   "outputs": [],
   "source": [
    "#Replacing NA with mode\n",
    "data['emp_length'].fillna(data['emp_length'].mode()[0],inplace=True)#inplace true will make changes permanent"
   ]
  },
  {
   "cell_type": "code",
   "execution_count": 26,
   "metadata": {
    "_uuid": "e39d53ae9aefcc43fd0093b5906bfb10817d31a4"
   },
   "outputs": [],
   "source": [
    "#Replacing NA with mode\n",
    "colname1=['tot_coll_amt','tot_cur_bal','total_rev_hi_lim']\n",
    "for x in colname1:\n",
    "    data[x].fillna(data[x].mean(),inplace=True)#inplace true will make changes permanent"
   ]
  },
  {
   "cell_type": "code",
   "execution_count": 27,
   "metadata": {
    "_uuid": "d979d6a5561a86b7386100a97cb035f869cb6450"
   },
   "outputs": [
    {
     "data": {
      "text/html": [
       "<div>\n",
       "<style scoped>\n",
       "    .dataframe tbody tr th:only-of-type {\n",
       "        vertical-align: middle;\n",
       "    }\n",
       "\n",
       "    .dataframe tbody tr th {\n",
       "        vertical-align: top;\n",
       "    }\n",
       "\n",
       "    .dataframe thead th {\n",
       "        text-align: right;\n",
       "    }\n",
       "</style>\n",
       "<table border=\"1\" class=\"dataframe\">\n",
       "  <thead>\n",
       "    <tr style=\"text-align: right;\">\n",
       "      <th></th>\n",
       "      <th>id</th>\n",
       "      <th>member_id</th>\n",
       "      <th>loan_amnt</th>\n",
       "      <th>funded_amnt</th>\n",
       "      <th>funded_amnt_inv</th>\n",
       "      <th>term</th>\n",
       "      <th>int_rate</th>\n",
       "      <th>installment</th>\n",
       "      <th>grade</th>\n",
       "      <th>sub_grade</th>\n",
       "      <th>...</th>\n",
       "      <th>collection_recovery_fee</th>\n",
       "      <th>last_pymnt_amnt</th>\n",
       "      <th>collections_12_mths_ex_med</th>\n",
       "      <th>policy_code</th>\n",
       "      <th>application_type</th>\n",
       "      <th>acc_now_delinq</th>\n",
       "      <th>tot_coll_amt</th>\n",
       "      <th>tot_cur_bal</th>\n",
       "      <th>total_rev_hi_lim</th>\n",
       "      <th>default_ind</th>\n",
       "    </tr>\n",
       "  </thead>\n",
       "  <tbody>\n",
       "    <tr>\n",
       "      <th>0</th>\n",
       "      <td>1077501</td>\n",
       "      <td>1296599</td>\n",
       "      <td>5000.0</td>\n",
       "      <td>5000.0</td>\n",
       "      <td>4975.0</td>\n",
       "      <td>36 months</td>\n",
       "      <td>10.65</td>\n",
       "      <td>162.87</td>\n",
       "      <td>B</td>\n",
       "      <td>B2</td>\n",
       "      <td>...</td>\n",
       "      <td>0.00</td>\n",
       "      <td>171.62</td>\n",
       "      <td>0.0</td>\n",
       "      <td>1.0</td>\n",
       "      <td>INDIVIDUAL</td>\n",
       "      <td>0.0</td>\n",
       "      <td>225.412882</td>\n",
       "      <td>139766.247529</td>\n",
       "      <td>32163.574526</td>\n",
       "      <td>0</td>\n",
       "    </tr>\n",
       "    <tr>\n",
       "      <th>1</th>\n",
       "      <td>1077430</td>\n",
       "      <td>1314167</td>\n",
       "      <td>2500.0</td>\n",
       "      <td>2500.0</td>\n",
       "      <td>2500.0</td>\n",
       "      <td>60 months</td>\n",
       "      <td>15.27</td>\n",
       "      <td>59.83</td>\n",
       "      <td>C</td>\n",
       "      <td>C4</td>\n",
       "      <td>...</td>\n",
       "      <td>1.11</td>\n",
       "      <td>119.66</td>\n",
       "      <td>0.0</td>\n",
       "      <td>1.0</td>\n",
       "      <td>INDIVIDUAL</td>\n",
       "      <td>0.0</td>\n",
       "      <td>225.412882</td>\n",
       "      <td>139766.247529</td>\n",
       "      <td>32163.574526</td>\n",
       "      <td>1</td>\n",
       "    </tr>\n",
       "    <tr>\n",
       "      <th>2</th>\n",
       "      <td>1077175</td>\n",
       "      <td>1313524</td>\n",
       "      <td>2400.0</td>\n",
       "      <td>2400.0</td>\n",
       "      <td>2400.0</td>\n",
       "      <td>36 months</td>\n",
       "      <td>15.96</td>\n",
       "      <td>84.33</td>\n",
       "      <td>C</td>\n",
       "      <td>C5</td>\n",
       "      <td>...</td>\n",
       "      <td>0.00</td>\n",
       "      <td>649.91</td>\n",
       "      <td>0.0</td>\n",
       "      <td>1.0</td>\n",
       "      <td>INDIVIDUAL</td>\n",
       "      <td>0.0</td>\n",
       "      <td>225.412882</td>\n",
       "      <td>139766.247529</td>\n",
       "      <td>32163.574526</td>\n",
       "      <td>0</td>\n",
       "    </tr>\n",
       "    <tr>\n",
       "      <th>3</th>\n",
       "      <td>1076863</td>\n",
       "      <td>1277178</td>\n",
       "      <td>10000.0</td>\n",
       "      <td>10000.0</td>\n",
       "      <td>10000.0</td>\n",
       "      <td>36 months</td>\n",
       "      <td>13.49</td>\n",
       "      <td>339.31</td>\n",
       "      <td>C</td>\n",
       "      <td>C1</td>\n",
       "      <td>...</td>\n",
       "      <td>0.00</td>\n",
       "      <td>357.48</td>\n",
       "      <td>0.0</td>\n",
       "      <td>1.0</td>\n",
       "      <td>INDIVIDUAL</td>\n",
       "      <td>0.0</td>\n",
       "      <td>225.412882</td>\n",
       "      <td>139766.247529</td>\n",
       "      <td>32163.574526</td>\n",
       "      <td>0</td>\n",
       "    </tr>\n",
       "    <tr>\n",
       "      <th>4</th>\n",
       "      <td>1075358</td>\n",
       "      <td>1311748</td>\n",
       "      <td>3000.0</td>\n",
       "      <td>3000.0</td>\n",
       "      <td>3000.0</td>\n",
       "      <td>60 months</td>\n",
       "      <td>12.69</td>\n",
       "      <td>67.79</td>\n",
       "      <td>B</td>\n",
       "      <td>B5</td>\n",
       "      <td>...</td>\n",
       "      <td>0.00</td>\n",
       "      <td>67.79</td>\n",
       "      <td>0.0</td>\n",
       "      <td>1.0</td>\n",
       "      <td>INDIVIDUAL</td>\n",
       "      <td>0.0</td>\n",
       "      <td>225.412882</td>\n",
       "      <td>139766.247529</td>\n",
       "      <td>32163.574526</td>\n",
       "      <td>0</td>\n",
       "    </tr>\n",
       "  </tbody>\n",
       "</table>\n",
       "<p>5 rows × 45 columns</p>\n",
       "</div>"
      ],
      "text/plain": [
       "        id  member_id  loan_amnt  funded_amnt  funded_amnt_inv        term  \\\n",
       "0  1077501    1296599     5000.0       5000.0           4975.0   36 months   \n",
       "1  1077430    1314167     2500.0       2500.0           2500.0   60 months   \n",
       "2  1077175    1313524     2400.0       2400.0           2400.0   36 months   \n",
       "3  1076863    1277178    10000.0      10000.0          10000.0   36 months   \n",
       "4  1075358    1311748     3000.0       3000.0           3000.0   60 months   \n",
       "\n",
       "   int_rate  installment grade sub_grade     ...      collection_recovery_fee  \\\n",
       "0     10.65       162.87     B        B2     ...                         0.00   \n",
       "1     15.27        59.83     C        C4     ...                         1.11   \n",
       "2     15.96        84.33     C        C5     ...                         0.00   \n",
       "3     13.49       339.31     C        C1     ...                         0.00   \n",
       "4     12.69        67.79     B        B5     ...                         0.00   \n",
       "\n",
       "  last_pymnt_amnt  collections_12_mths_ex_med policy_code application_type  \\\n",
       "0          171.62                         0.0         1.0       INDIVIDUAL   \n",
       "1          119.66                         0.0         1.0       INDIVIDUAL   \n",
       "2          649.91                         0.0         1.0       INDIVIDUAL   \n",
       "3          357.48                         0.0         1.0       INDIVIDUAL   \n",
       "4           67.79                         0.0         1.0       INDIVIDUAL   \n",
       "\n",
       "  acc_now_delinq tot_coll_amt    tot_cur_bal  total_rev_hi_lim  default_ind  \n",
       "0            0.0   225.412882  139766.247529      32163.574526            0  \n",
       "1            0.0   225.412882  139766.247529      32163.574526            1  \n",
       "2            0.0   225.412882  139766.247529      32163.574526            0  \n",
       "3            0.0   225.412882  139766.247529      32163.574526            0  \n",
       "4            0.0   225.412882  139766.247529      32163.574526            0  \n",
       "\n",
       "[5 rows x 45 columns]"
      ]
     },
     "execution_count": 27,
     "metadata": {},
     "output_type": "execute_result"
    }
   ],
   "source": [
    "data.head()"
   ]
  },
  {
   "cell_type": "code",
   "execution_count": 28,
   "metadata": {
    "_uuid": "d81f81e63e7664f24170c6f25acc054508941ee5"
   },
   "outputs": [],
   "source": [
    "#dropping na rows\n",
    "data.dropna(axis=0,inplace=True)\n"
   ]
  },
  {
   "cell_type": "code",
   "execution_count": 29,
   "metadata": {
    "_uuid": "4369f0e2d269d92326edc9a6af05f376f2243897"
   },
   "outputs": [
    {
     "name": "stdout",
     "output_type": "stream",
     "text": [
      "id                            0\n",
      "member_id                     0\n",
      "loan_amnt                     0\n",
      "funded_amnt                   0\n",
      "funded_amnt_inv               0\n",
      "term                          0\n",
      "int_rate                      0\n",
      "installment                   0\n",
      "grade                         0\n",
      "sub_grade                     0\n",
      "emp_length                    0\n",
      "home_ownership                0\n",
      "annual_inc                    0\n",
      "verification_status           0\n",
      "issue_d                       0\n",
      "pymnt_plan                    0\n",
      "purpose                       0\n",
      "addr_state                    0\n",
      "dti                           0\n",
      "delinq_2yrs                   0\n",
      "inq_last_6mths                0\n",
      "open_acc                      0\n",
      "pub_rec                       0\n",
      "revol_bal                     0\n",
      "revol_util                    0\n",
      "total_acc                     0\n",
      "initial_list_status           0\n",
      "out_prncp                     0\n",
      "out_prncp_inv                 0\n",
      "total_pymnt                   0\n",
      "total_pymnt_inv               0\n",
      "total_rec_prncp               0\n",
      "total_rec_int                 0\n",
      "total_rec_late_fee            0\n",
      "recoveries                    0\n",
      "collection_recovery_fee       0\n",
      "last_pymnt_amnt               0\n",
      "collections_12_mths_ex_med    0\n",
      "policy_code                   0\n",
      "application_type              0\n",
      "acc_now_delinq                0\n",
      "tot_coll_amt                  0\n",
      "tot_cur_bal                   0\n",
      "total_rev_hi_lim              0\n",
      "default_ind                   0\n",
      "dtype: int64\n"
     ]
    }
   ],
   "source": [
    "print(data.isnull().sum())"
   ]
  },
  {
   "cell_type": "code",
   "execution_count": 30,
   "metadata": {
    "_uuid": "e8cd43211db1358ebe4335a870c81f10c3dd13a5"
   },
   "outputs": [],
   "source": [
    "#converting categorical to numerical\n",
    "from sklearn import preprocessing\n",
    "colname=['term','grade','sub_grade','home_ownership','verification_status','pymnt_plan']\n",
    "le={}\n",
    "\n",
    "for x in colname:\n",
    "    le[x]=preprocessing.LabelEncoder()\n",
    "    \n",
    "for x in colname:\n",
    "    data[x]=le[x].fit_transform(data[x])"
   ]
  },
  {
   "cell_type": "code",
   "execution_count": 31,
   "metadata": {
    "_uuid": "9ccd910a9a3d57bebfe442bd48a61b8650d5c807"
   },
   "outputs": [],
   "source": [
    "colname1=['addr_state','application_type']\n",
    "for x in colname1:\n",
    "    \n",
    "    data[x] = pd.get_dummies(data[x])\n"
   ]
  },
  {
   "cell_type": "code",
   "execution_count": 32,
   "metadata": {
    "_uuid": "e10b109bc4fc91a22fdb9a40d4cf7b0b83143c52"
   },
   "outputs": [
    {
     "data": {
      "text/plain": [
       "(855467, 45)"
      ]
     },
     "execution_count": 32,
     "metadata": {},
     "output_type": "execute_result"
    }
   ],
   "source": [
    "data.shape\n"
   ]
  },
  {
   "cell_type": "code",
   "execution_count": 33,
   "metadata": {
    "_uuid": "74c9d75b87ef559a1edd72b9f7f25b010e4be3c5"
   },
   "outputs": [],
   "source": [
    "data.drop(['emp_length','purpose','initial_list_status'],axis=1,inplace=True)"
   ]
  },
  {
   "cell_type": "code",
   "execution_count": 34,
   "metadata": {
    "_uuid": "4810214df92ac75358e033c28e8666096a19de8e"
   },
   "outputs": [
    {
     "data": {
      "text/html": [
       "<div>\n",
       "<style scoped>\n",
       "    .dataframe tbody tr th:only-of-type {\n",
       "        vertical-align: middle;\n",
       "    }\n",
       "\n",
       "    .dataframe tbody tr th {\n",
       "        vertical-align: top;\n",
       "    }\n",
       "\n",
       "    .dataframe thead th {\n",
       "        text-align: right;\n",
       "    }\n",
       "</style>\n",
       "<table border=\"1\" class=\"dataframe\">\n",
       "  <thead>\n",
       "    <tr style=\"text-align: right;\">\n",
       "      <th></th>\n",
       "      <th>id</th>\n",
       "      <th>member_id</th>\n",
       "      <th>loan_amnt</th>\n",
       "      <th>funded_amnt</th>\n",
       "      <th>funded_amnt_inv</th>\n",
       "      <th>term</th>\n",
       "      <th>int_rate</th>\n",
       "      <th>installment</th>\n",
       "      <th>grade</th>\n",
       "      <th>sub_grade</th>\n",
       "      <th>...</th>\n",
       "      <th>collection_recovery_fee</th>\n",
       "      <th>last_pymnt_amnt</th>\n",
       "      <th>collections_12_mths_ex_med</th>\n",
       "      <th>policy_code</th>\n",
       "      <th>application_type</th>\n",
       "      <th>acc_now_delinq</th>\n",
       "      <th>tot_coll_amt</th>\n",
       "      <th>tot_cur_bal</th>\n",
       "      <th>total_rev_hi_lim</th>\n",
       "      <th>default_ind</th>\n",
       "    </tr>\n",
       "  </thead>\n",
       "  <tbody>\n",
       "    <tr>\n",
       "      <th>0</th>\n",
       "      <td>1077501</td>\n",
       "      <td>1296599</td>\n",
       "      <td>5000.0</td>\n",
       "      <td>5000.0</td>\n",
       "      <td>4975.0</td>\n",
       "      <td>0</td>\n",
       "      <td>10.65</td>\n",
       "      <td>162.87</td>\n",
       "      <td>1</td>\n",
       "      <td>6</td>\n",
       "      <td>...</td>\n",
       "      <td>0.00</td>\n",
       "      <td>171.62</td>\n",
       "      <td>0.0</td>\n",
       "      <td>1.0</td>\n",
       "      <td>1</td>\n",
       "      <td>0.0</td>\n",
       "      <td>225.412882</td>\n",
       "      <td>139766.247529</td>\n",
       "      <td>32163.574526</td>\n",
       "      <td>0</td>\n",
       "    </tr>\n",
       "    <tr>\n",
       "      <th>1</th>\n",
       "      <td>1077430</td>\n",
       "      <td>1314167</td>\n",
       "      <td>2500.0</td>\n",
       "      <td>2500.0</td>\n",
       "      <td>2500.0</td>\n",
       "      <td>1</td>\n",
       "      <td>15.27</td>\n",
       "      <td>59.83</td>\n",
       "      <td>2</td>\n",
       "      <td>13</td>\n",
       "      <td>...</td>\n",
       "      <td>1.11</td>\n",
       "      <td>119.66</td>\n",
       "      <td>0.0</td>\n",
       "      <td>1.0</td>\n",
       "      <td>1</td>\n",
       "      <td>0.0</td>\n",
       "      <td>225.412882</td>\n",
       "      <td>139766.247529</td>\n",
       "      <td>32163.574526</td>\n",
       "      <td>1</td>\n",
       "    </tr>\n",
       "    <tr>\n",
       "      <th>2</th>\n",
       "      <td>1077175</td>\n",
       "      <td>1313524</td>\n",
       "      <td>2400.0</td>\n",
       "      <td>2400.0</td>\n",
       "      <td>2400.0</td>\n",
       "      <td>0</td>\n",
       "      <td>15.96</td>\n",
       "      <td>84.33</td>\n",
       "      <td>2</td>\n",
       "      <td>14</td>\n",
       "      <td>...</td>\n",
       "      <td>0.00</td>\n",
       "      <td>649.91</td>\n",
       "      <td>0.0</td>\n",
       "      <td>1.0</td>\n",
       "      <td>1</td>\n",
       "      <td>0.0</td>\n",
       "      <td>225.412882</td>\n",
       "      <td>139766.247529</td>\n",
       "      <td>32163.574526</td>\n",
       "      <td>0</td>\n",
       "    </tr>\n",
       "    <tr>\n",
       "      <th>3</th>\n",
       "      <td>1076863</td>\n",
       "      <td>1277178</td>\n",
       "      <td>10000.0</td>\n",
       "      <td>10000.0</td>\n",
       "      <td>10000.0</td>\n",
       "      <td>0</td>\n",
       "      <td>13.49</td>\n",
       "      <td>339.31</td>\n",
       "      <td>2</td>\n",
       "      <td>10</td>\n",
       "      <td>...</td>\n",
       "      <td>0.00</td>\n",
       "      <td>357.48</td>\n",
       "      <td>0.0</td>\n",
       "      <td>1.0</td>\n",
       "      <td>1</td>\n",
       "      <td>0.0</td>\n",
       "      <td>225.412882</td>\n",
       "      <td>139766.247529</td>\n",
       "      <td>32163.574526</td>\n",
       "      <td>0</td>\n",
       "    </tr>\n",
       "    <tr>\n",
       "      <th>4</th>\n",
       "      <td>1075358</td>\n",
       "      <td>1311748</td>\n",
       "      <td>3000.0</td>\n",
       "      <td>3000.0</td>\n",
       "      <td>3000.0</td>\n",
       "      <td>1</td>\n",
       "      <td>12.69</td>\n",
       "      <td>67.79</td>\n",
       "      <td>1</td>\n",
       "      <td>9</td>\n",
       "      <td>...</td>\n",
       "      <td>0.00</td>\n",
       "      <td>67.79</td>\n",
       "      <td>0.0</td>\n",
       "      <td>1.0</td>\n",
       "      <td>1</td>\n",
       "      <td>0.0</td>\n",
       "      <td>225.412882</td>\n",
       "      <td>139766.247529</td>\n",
       "      <td>32163.574526</td>\n",
       "      <td>0</td>\n",
       "    </tr>\n",
       "  </tbody>\n",
       "</table>\n",
       "<p>5 rows × 42 columns</p>\n",
       "</div>"
      ],
      "text/plain": [
       "        id  member_id  loan_amnt  funded_amnt  funded_amnt_inv  term  \\\n",
       "0  1077501    1296599     5000.0       5000.0           4975.0     0   \n",
       "1  1077430    1314167     2500.0       2500.0           2500.0     1   \n",
       "2  1077175    1313524     2400.0       2400.0           2400.0     0   \n",
       "3  1076863    1277178    10000.0      10000.0          10000.0     0   \n",
       "4  1075358    1311748     3000.0       3000.0           3000.0     1   \n",
       "\n",
       "   int_rate  installment  grade  sub_grade     ...       \\\n",
       "0     10.65       162.87      1          6     ...        \n",
       "1     15.27        59.83      2         13     ...        \n",
       "2     15.96        84.33      2         14     ...        \n",
       "3     13.49       339.31      2         10     ...        \n",
       "4     12.69        67.79      1          9     ...        \n",
       "\n",
       "   collection_recovery_fee  last_pymnt_amnt  collections_12_mths_ex_med  \\\n",
       "0                     0.00           171.62                         0.0   \n",
       "1                     1.11           119.66                         0.0   \n",
       "2                     0.00           649.91                         0.0   \n",
       "3                     0.00           357.48                         0.0   \n",
       "4                     0.00            67.79                         0.0   \n",
       "\n",
       "  policy_code  application_type  acc_now_delinq  tot_coll_amt    tot_cur_bal  \\\n",
       "0         1.0                 1             0.0    225.412882  139766.247529   \n",
       "1         1.0                 1             0.0    225.412882  139766.247529   \n",
       "2         1.0                 1             0.0    225.412882  139766.247529   \n",
       "3         1.0                 1             0.0    225.412882  139766.247529   \n",
       "4         1.0                 1             0.0    225.412882  139766.247529   \n",
       "\n",
       "   total_rev_hi_lim  default_ind  \n",
       "0      32163.574526            0  \n",
       "1      32163.574526            1  \n",
       "2      32163.574526            0  \n",
       "3      32163.574526            0  \n",
       "4      32163.574526            0  \n",
       "\n",
       "[5 rows x 42 columns]"
      ]
     },
     "execution_count": 34,
     "metadata": {},
     "output_type": "execute_result"
    }
   ],
   "source": [
    "data.head()"
   ]
  },
  {
   "cell_type": "code",
   "execution_count": 36,
   "metadata": {
    "_uuid": "c5b9a3eac66683a3ab29fc1e318bdaf47d9117f2"
   },
   "outputs": [],
   "source": [
    "train_df = data[data['issue_d'] < '2015-6-01']\n",
    "test_df = data[data['issue_d'] >= '2015-6-01']"
   ]
  },
  {
   "cell_type": "code",
   "execution_count": 37,
   "metadata": {
    "_uuid": "e0073caaa2eb6fb455807048c4d3da675d9c87d9"
   },
   "outputs": [],
   "source": [
    "data.drop('issue_d',inplace=True,axis=1)"
   ]
  },
  {
   "cell_type": "code",
   "execution_count": 38,
   "metadata": {
    "_uuid": "12e4b7325a87c343734868768d9e965e25152c6a"
   },
   "outputs": [
    {
     "data": {
      "text/plain": [
       "598581"
      ]
     },
     "execution_count": 38,
     "metadata": {},
     "output_type": "execute_result"
    }
   ],
   "source": [
    "len(train_df)"
   ]
  },
  {
   "cell_type": "code",
   "execution_count": 39,
   "metadata": {
    "_uuid": "e5188d8bf9e43c95e189b86dc2b84b5834df75f4"
   },
   "outputs": [],
   "source": [
    "train_data=data.loc[0:len(train_df),:]\n",
    "test_data=data.loc[len(train_df):,:]"
   ]
  },
  {
   "cell_type": "code",
   "execution_count": 40,
   "metadata": {
    "_uuid": "0e61f33a7628021a492dd1ca945b0fc9640b5cc7"
   },
   "outputs": [],
   "source": [
    "X_train=train_data.values[:,:-1]\n",
    "Y_train=train_data.values[:,-1]\n",
    "X_test=test_data.values[:,:-1]\n",
    "Y_test=test_data.values[:,-1]"
   ]
  },
  {
   "cell_type": "code",
   "execution_count": 41,
   "metadata": {
    "_uuid": "507e8a6672c6c5be6fb1535146ac65932308f8e3"
   },
   "outputs": [
    {
     "name": "stderr",
     "output_type": "stream",
     "text": [
      "IOPub data rate exceeded.\n",
      "The notebook server will temporarily stop sending output\n",
      "to the client in order to avoid crashing it.\n",
      "To change this limit, set the config variable\n",
      "`--NotebookApp.iopub_data_rate_limit`.\n",
      "\n",
      "Current values:\n",
      "NotebookApp.iopub_data_rate_limit=1000000.0 (bytes/sec)\n",
      "NotebookApp.rate_limit_window=3.0 (secs)\n",
      "\n"
     ]
    }
   ],
   "source": [
    "#logistic regression\n",
    "from sklearn.linear_model import LogisticRegression\n",
    "classifier=LogisticRegression()\n",
    "#fitting training data to the model\n",
    "classifier.fit(X_train,Y_train)\n",
    "\n",
    "Y_pred=classifier.predict(X_test)\n",
    "print(list(zip(Y_test,Y_pred)))"
   ]
  },
  {
   "cell_type": "code",
   "execution_count": 42,
   "metadata": {
    "_uuid": "43c6503c691d77d5bd6c5bf5c05a9774d8358ba1"
   },
   "outputs": [
    {
     "name": "stdout",
     "output_type": "stream",
     "text": [
      "[[254045     86]\n",
      " [   760   2395]]\n",
      "classification report:\n",
      "             precision    recall  f1-score   support\n",
      "\n",
      "        0.0       1.00      1.00      1.00    254131\n",
      "        1.0       0.97      0.76      0.85      3155\n",
      "\n",
      "avg / total       1.00      1.00      1.00    257286\n",
      "\n",
      "Accuracy of the model: 0.9967118304144027\n"
     ]
    }
   ],
   "source": [
    "#confusion matrix\n",
    "from sklearn.metrics import confusion_matrix,accuracy_score,classification_report\n",
    "cfm=confusion_matrix(Y_test,Y_pred)\n",
    "print(cfm)\n",
    "\n",
    "print('classification report:')\n",
    "\n",
    "print(classification_report(Y_test,Y_pred))\n",
    "acc=accuracy_score(Y_test,Y_pred)\n",
    "print(\"Accuracy of the model:\",acc)\n"
   ]
  },
  {
   "cell_type": "code",
   "execution_count": 45,
   "metadata": {
    "_uuid": "6219ed4ef13d26a61a3659d4f61a3bdbc9565f92"
   },
   "outputs": [
    {
     "data": {
      "text/plain": [
       "RandomForestClassifier(bootstrap=True, class_weight=None, criterion='gini',\n",
       "            max_depth=None, max_features='auto', max_leaf_nodes=None,\n",
       "            min_impurity_decrease=0.0, min_impurity_split=None,\n",
       "            min_samples_leaf=3, min_samples_split=2,\n",
       "            min_weight_fraction_leaf=0.0, n_estimators=1000, n_jobs=-1,\n",
       "            oob_score=False, random_state=None, verbose=0,\n",
       "            warm_start=False)"
      ]
     },
     "execution_count": 45,
     "metadata": {},
     "output_type": "execute_result"
    }
   ],
   "source": [
    "#Randomforest\n",
    "from sklearn.ensemble import RandomForestClassifier\n",
    "m = RandomForestClassifier(n_jobs=-1,n_estimators=1000,min_samples_leaf=3)\n",
    "m.fit(X_train,Y_train)"
   ]
  },
  {
   "cell_type": "code",
   "execution_count": 46,
   "metadata": {
    "_uuid": "e929388305dee512e79766c4ee9d0747c152d8fc"
   },
   "outputs": [
    {
     "name": "stdout",
     "output_type": "stream",
     "text": [
      "[[254097     34]\n",
      " [   397   2758]]\n",
      "             precision    recall  f1-score   support\n",
      "\n",
      "        0.0       1.00      1.00      1.00    254131\n",
      "        1.0       0.99      0.87      0.93      3155\n",
      "\n",
      "avg / total       1.00      1.00      1.00    257286\n",
      "\n",
      "Accuracy of the model: 0.9983248214049735\n"
     ]
    }
   ],
   "source": [
    "\n",
    "y_pred = m.predict(X_test)\n",
    "print(confusion_matrix(Y_test,y_pred))\n",
    "print(classification_report(Y_test,y_pred))\n",
    "acc=accuracy_score(Y_test,y_pred)\n",
    "print(\"Accuracy of the model:\",acc)"
   ]
  },
  {
   "cell_type": "code",
   "execution_count": null,
   "metadata": {
    "_uuid": "4d739be0af729a2a9c389dd1463eb2a41034f41b"
   },
   "outputs": [],
   "source": []
  },
  {
   "cell_type": "code",
   "execution_count": null,
   "metadata": {
    "_uuid": "9d7ec1f1aaed42b6ed62c7886bdaf4dbf79fa025"
   },
   "outputs": [],
   "source": []
  },
  {
   "cell_type": "code",
   "execution_count": null,
   "metadata": {
    "_uuid": "0154f4572f01f09f68c32887ff398a8b3f27669b"
   },
   "outputs": [],
   "source": []
  }
 ],
 "metadata": {
  "kernelspec": {
   "display_name": "Python 3",
   "language": "python",
   "name": "python3"
  },
  "language_info": {
   "codemirror_mode": {
    "name": "ipython",
    "version": 3
   },
   "file_extension": ".py",
   "mimetype": "text/x-python",
   "name": "python",
   "nbconvert_exporter": "python",
   "pygments_lexer": "ipython3",
   "version": "3.6.5"
  }
 },
 "nbformat": 4,
 "nbformat_minor": 1
}
